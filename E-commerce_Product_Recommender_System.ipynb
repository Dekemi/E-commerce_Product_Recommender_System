{
 "cells": [
  {
   "cell_type": "markdown",
   "id": "c186a24d-388e-4f4a-87b5-f6f1718dcd1d",
   "metadata": {},
   "source": [
    "# 1. Load the Data"
   ]
  },
  {
   "cell_type": "code",
   "execution_count": 7,
   "id": "00ebc070-04dd-426a-81f0-3e8ce1c1a8cc",
   "metadata": {},
   "outputs": [
    {
     "name": "stdout",
     "output_type": "stream",
     "text": [
      "Dataset loaded successfully!\n",
      "  InvoiceNo StockCode                          Description  Quantity  \\\n",
      "0    536365    85123A   WHITE HANGING HEART T-LIGHT HOLDER         6   \n",
      "1    536365     71053                  WHITE METAL LANTERN         6   \n",
      "2    536365    84406B       CREAM CUPID HEARTS COAT HANGER         8   \n",
      "3    536365    84029G  KNITTED UNION FLAG HOT WATER BOTTLE         6   \n",
      "4    536365    84029E       RED WOOLLY HOTTIE WHITE HEART.         6   \n",
      "\n",
      "          InvoiceDate  UnitPrice  CustomerID         Country  \n",
      "0 2010-12-01 08:26:00       2.55     17850.0  United Kingdom  \n",
      "1 2010-12-01 08:26:00       3.39     17850.0  United Kingdom  \n",
      "2 2010-12-01 08:26:00       2.75     17850.0  United Kingdom  \n",
      "3 2010-12-01 08:26:00       3.39     17850.0  United Kingdom  \n",
      "4 2010-12-01 08:26:00       3.39     17850.0  United Kingdom  \n"
     ]
    }
   ],
   "source": [
    "import pandas as pd\n",
    "\n",
    "# Load the dataset\n",
    "df = pd.read_excel(\"Online Retail.xlsx\")\n",
    "\n",
    "print(\"Dataset loaded successfully!\")\n",
    "print(df.head())"
   ]
  },
  {
   "cell_type": "markdown",
   "id": "9e204d83-fd57-43fe-83b0-36d96c8de85b",
   "metadata": {},
   "source": [
    "# 2. Data Preprocessing and Reshaping"
   ]
  },
  {
   "cell_type": "markdown",
   "id": "289404dc-624b-4173-8312-e3e6cdf82d99",
   "metadata": {},
   "source": [
    "# Clean the Data"
   ]
  },
  {
   "cell_type": "code",
   "execution_count": 23,
   "id": "6b3cd3eb-db4d-484f-b434-4c9c1bced324",
   "metadata": {},
   "outputs": [
    {
     "name": "stdout",
     "output_type": "stream",
     "text": [
      "Data cleaned. Shape: (397884, 8)\n"
     ]
    }
   ],
   "source": [
    "# Drop rows without a CustomerID\n",
    "df.dropna(axis=0, subset=['CustomerID'], inplace=True)\n",
    "\n",
    "# Convert CustomerID to an integer type for consistency\n",
    "df['CustomerID'] = df['CustomerID'].astype('int')\n",
    "\n",
    "# Filter out returned items (Quantity > 0) and items with no price\n",
    "df = df[df['Quantity'] > 0]\n",
    "df = df[df['UnitPrice'] > 0]\n",
    "\n",
    "print(\"Data cleaned. Shape:\", df.shape)"
   ]
  },
  {
   "cell_type": "markdown",
   "id": "375dbd72-c0a8-4ae2-9313-fbf9b48eb761",
   "metadata": {},
   "source": [
    "# Create the User-Item Matrix"
   ]
  },
  {
   "cell_type": "code",
   "execution_count": 25,
   "id": "dc9d2cbd-91e5-45d4-b8a1-05fe9538da1b",
   "metadata": {},
   "outputs": [
    {
     "name": "stdout",
     "output_type": "stream",
     "text": [
      "User-item matrix created.\n"
     ]
    }
   ],
   "source": [
    "from scipy.sparse import csr_matrix\n",
    "\n",
    "# Create a pivot table: users vs. products\n",
    "user_item_matrix_df = df.pivot_table(\n",
    "    index='CustomerID',\n",
    "    columns='StockCode',\n",
    "    values='Quantity',\n",
    "    aggfunc='sum'\n",
    ").fillna(0)\n",
    "\n",
    "# Convert the pandas DataFrame to a SciPy sparse matrix for memory efficiency\n",
    "user_item_matrix_sparse = csr_matrix(user_item_matrix_df.values)\n",
    "\n",
    "print(\"User-item matrix created.\")"
   ]
  },
  {
   "cell_type": "markdown",
   "id": "af9c612c-608b-4719-8052-e050cffa911c",
   "metadata": {},
   "source": [
    "# 3. Model Training (k-NN)"
   ]
  },
  {
   "cell_type": "markdown",
   "id": "4d48a11a-f44e-4fb6-bb6c-5d7d731ca774",
   "metadata": {},
   "source": [
    "# Configure the Model"
   ]
  },
  {
   "cell_type": "code",
   "execution_count": 27,
   "id": "06b429ab-370f-45b6-a28d-dbbac6b987c4",
   "metadata": {},
   "outputs": [
    {
     "name": "stdout",
     "output_type": "stream",
     "text": [
      "Model trained.\n"
     ]
    }
   ],
   "source": [
    "from sklearn.neighbors import NearestNeighbors\n",
    "\n",
    "# Configure the k-NN model\n",
    "model_knn = NearestNeighbors(metric='cosine', algorithm='brute', n_neighbors=10, n_jobs=-1)\n",
    "\n",
    "# Fit the model to our sparse matrix\n",
    "# The 'T' transposes the matrix so we are fitting on items (products) instead of users\n",
    "model_knn.fit(user_item_matrix_sparse.T)\n",
    "\n",
    "print(\"Model trained.\")"
   ]
  },
  {
   "cell_type": "markdown",
   "id": "eda0d082-418a-40ff-b748-015972fc11a3",
   "metadata": {},
   "source": [
    "# 4. Create the Recommendation Function"
   ]
  },
  {
   "cell_type": "markdown",
   "id": "5e5b6a66-becc-450a-8646-0b772ab1c4c4",
   "metadata": {},
   "source": [
    "# Create Mappings"
   ]
  },
  {
   "cell_type": "code",
   "execution_count": 29,
   "id": "6f555cca-59e6-4b0c-8aea-b197dfab0127",
   "metadata": {},
   "outputs": [],
   "source": [
    "# Create a mapping from the matrix index to the StockCode\n",
    "# The columns of our pivot table are the StockCodes\n",
    "item_mapper = {i: stock_code for i, stock_code in enumerate(user_item_matrix_df.columns)}"
   ]
  },
  {
   "cell_type": "markdown",
   "id": "44974de8-cc21-42a9-9f3d-0d6c0d176c60",
   "metadata": {},
   "source": [
    "# Write the Function\n",
    "This function will find the neighbors of a given product in the trained model."
   ]
  },
  {
   "cell_type": "code",
   "execution_count": 35,
   "id": "ee3024d8-f345-464e-88ad-8af7ac211403",
   "metadata": {},
   "outputs": [
    {
     "name": "stdout",
     "output_type": "stream",
     "text": [
      "Recommendations for '22423': Stock code 22423 not found.\n"
     ]
    }
   ],
   "source": [
    "def get_recommendations(stock_code, model, item_map, n_recommendations=5):\n",
    "    \"\"\"\n",
    "    Takes a stock code and returns N recommended similar stock codes.\n",
    "    \"\"\"\n",
    "    # Find the index for the given stock code\n",
    "    # We need a reverse mapper from stock_code to index\n",
    "    stock_to_idx = {v: k for k, v in item_map.items()}\n",
    "    try:\n",
    "        item_idx = stock_to_idx[stock_code]\n",
    "    except KeyError:\n",
    "        return f\"Stock code {stock_code} not found.\"\n",
    "\n",
    "    # Get the distances and indices of the nearest neighbors\n",
    "    # We need to reshape our item_idx to be a 2D array for the model\n",
    "    distances, indices = model.kneighbors(user_item_matrix_sparse.T[item_idx], n_neighbors=n_recommendations+1)\n",
    "\n",
    "    # The first item is the item itself, so we skip it\n",
    "    similar_items_indices = indices.squeeze()[1:]\n",
    "    \n",
    "    # Map indices back to stock codes\n",
    "    recommendations = [item_map[i] for i in similar_items_indices]\n",
    "    \n",
    "    return recommendations\n",
    "\n",
    "# --- Example Usage ---\n",
    "# Let's get recommendations for a popular item, e.g., '22423' (REGENCY CAKESTAND 3 TIER)\n",
    "example_recs = get_recommendations('22423', model_knn, item_mapper, n_recommendations=5)\n",
    "print(f\"Recommendations for '22423': {example_recs}\")"
   ]
  },
  {
   "cell_type": "markdown",
   "id": "0a3787eb-6c73-43b0-890e-4fa7b715ca61",
   "metadata": {},
   "source": [
    "# 5. Model and Data Saving"
   ]
  },
  {
   "cell_type": "code",
   "execution_count": 37,
   "id": "de866223-9712-4d81-9b62-6786f25d8aa5",
   "metadata": {},
   "outputs": [
    {
     "name": "stdout",
     "output_type": "stream",
     "text": [
      "Model and data saved successfully.\n"
     ]
    }
   ],
   "source": [
    "import joblib\n",
    "\n",
    "# What to save:\n",
    "# 1. The trained k-NN model\n",
    "# 2. The sparse matrix itself (for lookups)\n",
    "# 3. The item mapper (to translate indices to StockCodes)\n",
    "\n",
    "joblib.dump(model_knn, 'knn_model.joblib')\n",
    "joblib.dump(user_item_matrix_sparse, 'sparse_matrix.joblib')\n",
    "joblib.dump(item_mapper, 'item_mapper.joblib')\n",
    "\n",
    "print(\"Model and data saved successfully.\")"
   ]
  },
  {
   "cell_type": "code",
   "execution_count": null,
   "id": "4be7e8c1-12f5-4749-b470-45693d043b2f",
   "metadata": {},
   "outputs": [],
   "source": []
  }
 ],
 "metadata": {
  "kernelspec": {
   "display_name": "Python 3 (ipykernel)",
   "language": "python",
   "name": "python3"
  },
  "language_info": {
   "codemirror_mode": {
    "name": "ipython",
    "version": 3
   },
   "file_extension": ".py",
   "mimetype": "text/x-python",
   "name": "python",
   "nbconvert_exporter": "python",
   "pygments_lexer": "ipython3",
   "version": "3.11.7"
  }
 },
 "nbformat": 4,
 "nbformat_minor": 5
}
